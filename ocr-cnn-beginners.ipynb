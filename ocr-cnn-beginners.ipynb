{
 "cells": [
  {
   "cell_type": "code",
   "execution_count": 1,
   "id": "020d55e8",
   "metadata": {
    "execution": {
     "iopub.execute_input": "2023-08-05T10:56:48.241340Z",
     "iopub.status.busy": "2023-08-05T10:56:48.240984Z",
     "iopub.status.idle": "2023-08-05T10:57:46.151882Z",
     "shell.execute_reply": "2023-08-05T10:57:46.150901Z"
    },
    "id": "cyWhBU5QAS3L",
    "papermill": {
     "duration": 57.921162,
     "end_time": "2023-08-05T10:57:46.154568",
     "exception": false,
     "start_time": "2023-08-05T10:56:48.233406",
     "status": "completed"
    },
    "tags": []
   },
   "outputs": [],
   "source": [
    "import os\n",
    "import cv2\n",
    "import numpy as np\n",
    "\n",
    "\n",
    "images = []\n",
    "labels = []\n",
    "\n",
    "path = '/kaggle/input/standard-ocr-dataset/data/training_data'\n",
    "\n",
    "dir_list = os.listdir(path)\n",
    "for i in dir_list:\n",
    "  dir = os.path.join(path, i)\n",
    "  file_list = os.listdir(dir)\n",
    "  for j in file_list:\n",
    "    files = os.path.join(dir, j)\n",
    "    img = cv2.imread(files)\n",
    "    img = cv2.resize(img, (64,64))\n",
    "    img = np.array(img, dtype=np.float32)\n",
    "    img = img/255\n",
    "    images.append(img)\n",
    "    labels.append(i)\n"
   ]
  },
  {
   "cell_type": "code",
   "execution_count": 2,
   "id": "03b8c9d2",
   "metadata": {
    "execution": {
     "iopub.execute_input": "2023-08-05T10:57:46.168946Z",
     "iopub.status.busy": "2023-08-05T10:57:46.167375Z",
     "iopub.status.idle": "2023-08-05T10:57:46.481964Z",
     "shell.execute_reply": "2023-08-05T10:57:46.481105Z"
    },
    "id": "49Cr2cderNq0",
    "outputId": "e80de0f3-413d-4386-b83c-6e45f3b96491",
    "papermill": {
     "duration": 0.323745,
     "end_time": "2023-08-05T10:57:46.484503",
     "exception": false,
     "start_time": "2023-08-05T10:57:46.160758",
     "status": "completed"
    },
    "tags": []
   },
   "outputs": [
    {
     "data": {
      "text/plain": [
       "20628"
      ]
     },
     "execution_count": 2,
     "metadata": {},
     "output_type": "execute_result"
    }
   ],
   "source": [
    "X = np.array(images)\n",
    "len(X)"
   ]
  },
  {
   "cell_type": "code",
   "execution_count": 3,
   "id": "0156b83b",
   "metadata": {
    "execution": {
     "iopub.execute_input": "2023-08-05T10:57:46.498315Z",
     "iopub.status.busy": "2023-08-05T10:57:46.497119Z",
     "iopub.status.idle": "2023-08-05T10:57:46.503535Z",
     "shell.execute_reply": "2023-08-05T10:57:46.502564Z"
    },
    "id": "C_2u-sHt_B7a",
    "outputId": "92bd1bfc-4b79-4f95-92dd-774068d9c38a",
    "papermill": {
     "duration": 0.015639,
     "end_time": "2023-08-05T10:57:46.506022",
     "exception": false,
     "start_time": "2023-08-05T10:57:46.490383",
     "status": "completed"
    },
    "tags": []
   },
   "outputs": [
    {
     "data": {
      "text/plain": [
       "(20628, 64, 64, 3)"
      ]
     },
     "execution_count": 3,
     "metadata": {},
     "output_type": "execute_result"
    }
   ],
   "source": [
    "X.shape"
   ]
  },
  {
   "cell_type": "code",
   "execution_count": 4,
   "id": "f6b37cbb",
   "metadata": {
    "execution": {
     "iopub.execute_input": "2023-08-05T10:57:46.518638Z",
     "iopub.status.busy": "2023-08-05T10:57:46.518381Z",
     "iopub.status.idle": "2023-08-05T10:57:46.530004Z",
     "shell.execute_reply": "2023-08-05T10:57:46.529152Z"
    },
    "id": "KeAbByV5qYz-",
    "outputId": "3cec41dc-0b13-4d6e-9262-4279b5d08c2a",
    "papermill": {
     "duration": 0.020381,
     "end_time": "2023-08-05T10:57:46.532284",
     "exception": false,
     "start_time": "2023-08-05T10:57:46.511903",
     "status": "completed"
    },
    "tags": []
   },
   "outputs": [
    {
     "data": {
      "text/plain": [
       "20628"
      ]
     },
     "execution_count": 4,
     "metadata": {},
     "output_type": "execute_result"
    }
   ],
   "source": [
    "y = np.array(labels)\n",
    "len(y)"
   ]
  },
  {
   "cell_type": "code",
   "execution_count": 5,
   "id": "121bffd5",
   "metadata": {
    "execution": {
     "iopub.execute_input": "2023-08-05T10:57:46.545274Z",
     "iopub.status.busy": "2023-08-05T10:57:46.544996Z",
     "iopub.status.idle": "2023-08-05T10:57:46.551900Z",
     "shell.execute_reply": "2023-08-05T10:57:46.551046Z"
    },
    "id": "JB3dn4OqzN_T",
    "outputId": "c7fc7d68-a6e6-436f-d5c4-7d0817991a65",
    "papermill": {
     "duration": 0.015648,
     "end_time": "2023-08-05T10:57:46.553950",
     "exception": false,
     "start_time": "2023-08-05T10:57:46.538302",
     "status": "completed"
    },
    "tags": []
   },
   "outputs": [
    {
     "data": {
      "text/plain": [
       "(20628,)"
      ]
     },
     "execution_count": 5,
     "metadata": {},
     "output_type": "execute_result"
    }
   ],
   "source": [
    "y.shape"
   ]
  },
  {
   "cell_type": "code",
   "execution_count": 6,
   "id": "1981a6d8",
   "metadata": {
    "execution": {
     "iopub.execute_input": "2023-08-05T10:57:46.567194Z",
     "iopub.status.busy": "2023-08-05T10:57:46.566701Z",
     "iopub.status.idle": "2023-08-05T10:57:47.478404Z",
     "shell.execute_reply": "2023-08-05T10:57:47.477434Z"
    },
    "id": "BSSiQ2DMr1XX",
    "papermill": {
     "duration": 0.920924,
     "end_time": "2023-08-05T10:57:47.480819",
     "exception": false,
     "start_time": "2023-08-05T10:57:46.559895",
     "status": "completed"
    },
    "tags": []
   },
   "outputs": [
    {
     "name": "stderr",
     "output_type": "stream",
     "text": [
      "/opt/conda/lib/python3.10/site-packages/scipy/__init__.py:146: UserWarning: A NumPy version >=1.16.5 and <1.23.0 is required for this version of SciPy (detected version 1.23.5\n",
      "  warnings.warn(f\"A NumPy version >={np_minversion} and <{np_maxversion}\"\n"
     ]
    }
   ],
   "source": [
    "from sklearn.preprocessing import LabelEncoder\n",
    "le = LabelEncoder()\n",
    "y = le.fit_transform(y)"
   ]
  },
  {
   "cell_type": "code",
   "execution_count": 7,
   "id": "7909081a",
   "metadata": {
    "execution": {
     "iopub.execute_input": "2023-08-05T10:57:47.494485Z",
     "iopub.status.busy": "2023-08-05T10:57:47.494200Z",
     "iopub.status.idle": "2023-08-05T10:57:47.788583Z",
     "shell.execute_reply": "2023-08-05T10:57:47.787540Z"
    },
    "id": "FeEcqHQ1sSRr",
    "papermill": {
     "duration": 0.304003,
     "end_time": "2023-08-05T10:57:47.791125",
     "exception": false,
     "start_time": "2023-08-05T10:57:47.487122",
     "status": "completed"
    },
    "tags": []
   },
   "outputs": [],
   "source": [
    "from sklearn.utils import shuffle\n",
    "X_sh, y_sh = shuffle(X, y, random_state=42)"
   ]
  },
  {
   "cell_type": "code",
   "execution_count": 8,
   "id": "a20f4f41",
   "metadata": {
    "execution": {
     "iopub.execute_input": "2023-08-05T10:57:47.805248Z",
     "iopub.status.busy": "2023-08-05T10:57:47.804936Z",
     "iopub.status.idle": "2023-08-05T10:57:54.909217Z",
     "shell.execute_reply": "2023-08-05T10:57:54.908136Z"
    },
    "id": "rUEeMhg3sk_3",
    "papermill": {
     "duration": 7.114067,
     "end_time": "2023-08-05T10:57:54.911606",
     "exception": false,
     "start_time": "2023-08-05T10:57:47.797539",
     "status": "completed"
    },
    "tags": []
   },
   "outputs": [
    {
     "name": "stderr",
     "output_type": "stream",
     "text": [
      "/opt/conda/lib/python3.10/site-packages/tensorflow_io/python/ops/__init__.py:98: UserWarning: unable to load libtensorflow_io_plugins.so: unable to open file: libtensorflow_io_plugins.so, from paths: ['/opt/conda/lib/python3.10/site-packages/tensorflow_io/python/ops/libtensorflow_io_plugins.so']\n",
      "caused by: ['/opt/conda/lib/python3.10/site-packages/tensorflow_io/python/ops/libtensorflow_io_plugins.so: undefined symbol: _ZN3tsl6StatusC1EN10tensorflow5error4CodeESt17basic_string_viewIcSt11char_traitsIcEENS_14SourceLocationE']\n",
      "  warnings.warn(f\"unable to load libtensorflow_io_plugins.so: {e}\")\n",
      "/opt/conda/lib/python3.10/site-packages/tensorflow_io/python/ops/__init__.py:104: UserWarning: file system plugins are not loaded: unable to open file: libtensorflow_io.so, from paths: ['/opt/conda/lib/python3.10/site-packages/tensorflow_io/python/ops/libtensorflow_io.so']\n",
      "caused by: ['/opt/conda/lib/python3.10/site-packages/tensorflow_io/python/ops/libtensorflow_io.so: undefined symbol: _ZTVN10tensorflow13GcsFileSystemE']\n",
      "  warnings.warn(f\"file system plugins are not loaded: {e}\")\n"
     ]
    }
   ],
   "source": [
    "from keras.models import Sequential\n",
    "from keras.layers import Conv2D, Flatten, MaxPooling2D, Dense"
   ]
  },
  {
   "cell_type": "code",
   "execution_count": 9,
   "id": "7c47b16d",
   "metadata": {
    "execution": {
     "iopub.execute_input": "2023-08-05T10:57:54.927093Z",
     "iopub.status.busy": "2023-08-05T10:57:54.925388Z",
     "iopub.status.idle": "2023-08-05T10:57:58.878852Z",
     "shell.execute_reply": "2023-08-05T10:57:58.877867Z"
    },
    "id": "bajnM7Pzw_0S",
    "papermill": {
     "duration": 3.963529,
     "end_time": "2023-08-05T10:57:58.881512",
     "exception": false,
     "start_time": "2023-08-05T10:57:54.917983",
     "status": "completed"
    },
    "tags": []
   },
   "outputs": [],
   "source": [
    "model = Sequential()"
   ]
  },
  {
   "cell_type": "code",
   "execution_count": 10,
   "id": "8cd2fb60",
   "metadata": {
    "execution": {
     "iopub.execute_input": "2023-08-05T10:57:58.895575Z",
     "iopub.status.busy": "2023-08-05T10:57:58.895279Z",
     "iopub.status.idle": "2023-08-05T10:57:59.047623Z",
     "shell.execute_reply": "2023-08-05T10:57:59.046741Z"
    },
    "id": "WaTM6lXMxHBm",
    "papermill": {
     "duration": 0.162361,
     "end_time": "2023-08-05T10:57:59.050309",
     "exception": false,
     "start_time": "2023-08-05T10:57:58.887948",
     "status": "completed"
    },
    "tags": []
   },
   "outputs": [],
   "source": [
    "model.add(Conv2D(filters=16, kernel_size=(3,3), activation='relu', input_shape=(64,64,3)))\n",
    "model.add(MaxPooling2D())\n",
    "model.add(Conv2D(filters=32, kernel_size=(3,3),  activation='relu'))\n",
    "model.add(MaxPooling2D())\n",
    "model.add(Conv2D(filters=64, kernel_size=(3,3),  activation='relu'))\n",
    "model.add(MaxPooling2D())\n",
    "model.add(Conv2D(filters=128, kernel_size=(3,3), activation='relu'))\n",
    "model.add(Flatten())\n",
    "model.add(Dense(units=128, activation='relu'))\n",
    "model.add(Dense(units=64, activation='relu'))\n",
    "model.add(Dense(units=36, activation='softmax'))"
   ]
  },
  {
   "cell_type": "code",
   "execution_count": 11,
   "id": "9f75ca35",
   "metadata": {
    "execution": {
     "iopub.execute_input": "2023-08-05T10:57:59.065165Z",
     "iopub.status.busy": "2023-08-05T10:57:59.064412Z",
     "iopub.status.idle": "2023-08-05T10:57:59.079462Z",
     "shell.execute_reply": "2023-08-05T10:57:59.078633Z"
    },
    "id": "TRHSmbG9zj9c",
    "papermill": {
     "duration": 0.024297,
     "end_time": "2023-08-05T10:57:59.081617",
     "exception": false,
     "start_time": "2023-08-05T10:57:59.057320",
     "status": "completed"
    },
    "tags": []
   },
   "outputs": [],
   "source": [
    "model.compile(optimizer='adam', loss='sparse_categorical_crossentropy', metrics = ['accuracy'])"
   ]
  },
  {
   "cell_type": "code",
   "execution_count": 12,
   "id": "ca238e35",
   "metadata": {
    "execution": {
     "iopub.execute_input": "2023-08-05T10:57:59.096925Z",
     "iopub.status.busy": "2023-08-05T10:57:59.095320Z",
     "iopub.status.idle": "2023-08-05T10:58:52.352025Z",
     "shell.execute_reply": "2023-08-05T10:58:52.351042Z"
    },
    "id": "mvA1MYyYz3UD",
    "outputId": "aa267e21-f09b-4605-8916-fc673a0a5bc5",
    "papermill": {
     "duration": 53.266864,
     "end_time": "2023-08-05T10:58:52.354512",
     "exception": false,
     "start_time": "2023-08-05T10:57:59.087648",
     "status": "completed"
    },
    "tags": []
   },
   "outputs": [
    {
     "name": "stdout",
     "output_type": "stream",
     "text": [
      "Epoch 1/10\n",
      "661/661 [==============================] - 15s 7ms/step - loss: 0.8105 - accuracy: 0.7780 - val_loss: 0.2670 - val_accuracy: 0.9273\n",
      "Epoch 2/10\n",
      "661/661 [==============================] - 4s 6ms/step - loss: 0.2000 - accuracy: 0.9396 - val_loss: 0.1896 - val_accuracy: 0.9426\n",
      "Epoch 3/10\n",
      "661/661 [==============================] - 4s 6ms/step - loss: 0.1385 - accuracy: 0.9539 - val_loss: 0.2269 - val_accuracy: 0.9421\n",
      "Epoch 4/10\n",
      "661/661 [==============================] - 4s 6ms/step - loss: 0.1115 - accuracy: 0.9604 - val_loss: 0.1648 - val_accuracy: 0.9544\n",
      "Epoch 5/10\n",
      "661/661 [==============================] - 4s 6ms/step - loss: 0.0802 - accuracy: 0.9699 - val_loss: 0.1390 - val_accuracy: 0.9622\n",
      "Epoch 6/10\n",
      "661/661 [==============================] - 5s 7ms/step - loss: 0.0764 - accuracy: 0.9701 - val_loss: 0.1634 - val_accuracy: 0.9571\n",
      "Epoch 7/10\n",
      "661/661 [==============================] - 4s 6ms/step - loss: 0.0675 - accuracy: 0.9740 - val_loss: 0.1620 - val_accuracy: 0.9612\n",
      "Epoch 8/10\n",
      "661/661 [==============================] - 4s 6ms/step - loss: 0.0640 - accuracy: 0.9758 - val_loss: 0.1671 - val_accuracy: 0.9571\n",
      "Epoch 9/10\n",
      "661/661 [==============================] - 4s 6ms/step - loss: 0.0502 - accuracy: 0.9787 - val_loss: 0.1550 - val_accuracy: 0.9644\n",
      "Epoch 10/10\n",
      "661/661 [==============================] - 4s 6ms/step - loss: 0.0502 - accuracy: 0.9814 - val_loss: 0.1957 - val_accuracy: 0.9552\n"
     ]
    }
   ],
   "source": [
    "history = model.fit(X_sh, y_sh ,validation_split=0.2, batch_size=25, epochs=10)"
   ]
  },
  {
   "cell_type": "code",
   "execution_count": 13,
   "id": "9ab01e02",
   "metadata": {
    "execution": {
     "iopub.execute_input": "2023-08-05T10:58:52.473134Z",
     "iopub.status.busy": "2023-08-05T10:58:52.472282Z",
     "iopub.status.idle": "2023-08-05T10:58:52.772924Z",
     "shell.execute_reply": "2023-08-05T10:58:52.771960Z"
    },
    "id": "gwIDtZF80G83",
    "outputId": "667b0654-38a1-49e3-efa0-5e8221a1578b",
    "papermill": {
     "duration": 0.361681,
     "end_time": "2023-08-05T10:58:52.775449",
     "exception": false,
     "start_time": "2023-08-05T10:58:52.413768",
     "status": "completed"
    },
    "tags": []
   },
   "outputs": [
    {
     "data": {
      "text/plain": [
       "<matplotlib.legend.Legend at 0x7abc80822890>"
      ]
     },
     "execution_count": 13,
     "metadata": {},
     "output_type": "execute_result"
    },
    {
     "data": {
      "image/png": "[encoded data removed]",
      "text/plain": [
       "<Figure size 640x480 with 1 Axes>"
      ]
     },
     "metadata": {},
     "output_type": "display_data"
    }
   ],
   "source": [
    "import matplotlib.pyplot as plt\n",
    "plt.plot(history.history['loss'])\n",
    "plt.plot(history.history['val_loss'])\n",
    "plt.legend(['loss', 'val_loss'])"
   ]
  },
  {
   "cell_type": "code",
   "execution_count": 14,
   "id": "3e7994cd",
   "metadata": {
    "execution": {
     "iopub.execute_input": "2023-08-05T10:58:52.893262Z",
     "iopub.status.busy": "2023-08-05T10:58:52.892537Z",
     "iopub.status.idle": "2023-08-05T10:58:55.738148Z",
     "shell.execute_reply": "2023-08-05T10:58:55.737117Z"
    },
    "id": "NnwD5QABNqdP",
    "papermill": {
     "duration": 2.906852,
     "end_time": "2023-08-05T10:58:55.740692",
     "exception": false,
     "start_time": "2023-08-05T10:58:52.833840",
     "status": "completed"
    },
    "tags": []
   },
   "outputs": [],
   "source": [
    "test_images = []\n",
    "test_labels = []\n",
    "\n",
    "path = '/kaggle/input/standard-ocr-dataset/data/testing_data'\n",
    "\n",
    "dir_list = os.listdir(path)\n",
    "for i in dir_list:\n",
    "  dir = os.path.join(path, i)\n",
    "  file_list = os.listdir(dir)\n",
    "  for j in file_list:\n",
    "    files = os.path.join(dir, j)\n",
    "    img = cv2.imread(files)\n",
    "    img = cv2.resize(img, (64,64))\n",
    "    img = np.array(img, dtype=np.float32)\n",
    "    img = img/255\n",
    "    test_images.append(img)\n",
    "    test_labels.append(i)\n"
   ]
  },
  {
   "cell_type": "code",
   "execution_count": 15,
   "id": "8c8f80af",
   "metadata": {
    "execution": {
     "iopub.execute_input": "2023-08-05T10:58:55.901829Z",
     "iopub.status.busy": "2023-08-05T10:58:55.901480Z",
     "iopub.status.idle": "2023-08-05T10:58:55.922408Z",
     "shell.execute_reply": "2023-08-05T10:58:55.921465Z"
    },
    "id": "2JTH7iV0O6-b",
    "papermill": {
     "duration": 0.123855,
     "end_time": "2023-08-05T10:58:55.924630",
     "exception": false,
     "start_time": "2023-08-05T10:58:55.800775",
     "status": "completed"
    },
    "tags": []
   },
   "outputs": [],
   "source": [
    "X_test = np.array(test_images)\n",
    "y_test = np.array(test_labels)"
   ]
  },
  {
   "cell_type": "code",
   "execution_count": 16,
   "id": "2114647b",
   "metadata": {
    "execution": {
     "iopub.execute_input": "2023-08-05T10:58:56.043278Z",
     "iopub.status.busy": "2023-08-05T10:58:56.042970Z",
     "iopub.status.idle": "2023-08-05T10:58:56.048357Z",
     "shell.execute_reply": "2023-08-05T10:58:56.047283Z"
    },
    "id": "UYEpFsC9PJ7v",
    "papermill": {
     "duration": 0.066307,
     "end_time": "2023-08-05T10:58:56.050495",
     "exception": false,
     "start_time": "2023-08-05T10:58:55.984188",
     "status": "completed"
    },
    "tags": []
   },
   "outputs": [],
   "source": [
    "from sklearn.preprocessing import LabelEncoder\n",
    "le = LabelEncoder()\n",
    "y_test = le.fit_transform(y_test)"
   ]
  },
  {
   "cell_type": "code",
   "execution_count": 17,
   "id": "1424deb1",
   "metadata": {
    "execution": {
     "iopub.execute_input": "2023-08-05T10:58:56.168942Z",
     "iopub.status.busy": "2023-08-05T10:58:56.168645Z",
     "iopub.status.idle": "2023-08-05T10:58:56.719354Z",
     "shell.execute_reply": "2023-08-05T10:58:56.718378Z"
    },
    "id": "z35HKNS-PRyE",
    "outputId": "f53b7e6f-3333-4042-c87e-64ff28cd2605",
    "papermill": {
     "duration": 0.612229,
     "end_time": "2023-08-05T10:58:56.721471",
     "exception": false,
     "start_time": "2023-08-05T10:58:56.109242",
     "status": "completed"
    },
    "tags": []
   },
   "outputs": [
    {
     "name": "stdout",
     "output_type": "stream",
     "text": [
      "32/32 [==============================] - 0s 8ms/step - loss: 0.0415 - accuracy: 0.9821\n"
     ]
    }
   ],
   "source": [
    "test_loss, test_accuracy = model.evaluate(X_test, y_test)"
   ]
  },
  {
   "cell_type": "code",
   "execution_count": 18,
   "id": "c8bc22ca",
   "metadata": {
    "execution": {
     "iopub.execute_input": "2023-08-05T10:58:56.865996Z",
     "iopub.status.busy": "2023-08-05T10:58:56.865026Z",
     "iopub.status.idle": "2023-08-05T10:58:56.871225Z",
     "shell.execute_reply": "2023-08-05T10:58:56.870027Z"
    },
    "id": "otOcGVf-PnG9",
    "outputId": "60b17593-590e-4453-9ae2-0a561dbb4fde",
    "papermill": {
     "duration": 0.079233,
     "end_time": "2023-08-05T10:58:56.874032",
     "exception": false,
     "start_time": "2023-08-05T10:58:56.794799",
     "status": "completed"
    },
    "tags": []
   },
   "outputs": [
    {
     "name": "stdout",
     "output_type": "stream",
     "text": [
      "0.04151330515742302 0.9821428656578064\n"
     ]
    }
   ],
   "source": [
    "print(test_loss,test_accuracy )"
   ]
  },
  {
   "cell_type": "code",
   "execution_count": null,
   "id": "b1d62bb7",
   "metadata": {
    "id": "tTjj2jcjP5vn",
    "papermill": {
     "duration": 0.066755,
     "end_time": "2023-08-05T10:58:57.008665",
     "exception": false,
     "start_time": "2023-08-05T10:58:56.941910",
     "status": "completed"
    },
    "tags": []
   },
   "outputs": [],
   "source": []
  }
 ],
 "metadata": {
  "kernelspec": {
   "display_name": "Python 3",
   "language": "python",
   "name": "python3"
  },
  "language_info": {
   "codemirror_mode": {
    "name": "ipython",
    "version": 3
   },
   "file_extension": ".py",
   "mimetype": "text/x-python",
   "name": "python",
   "nbconvert_exporter": "python",
   "pygments_lexer": "ipython3",
   "version": "3.10.12"
  },
  "papermill": {
   "default_parameters": {},
   "duration": 141.707729,
   "end_time": "2023-08-05T10:59:00.176119",
   "environment_variables": {},
   "exception": null,
   "input_path": "__notebook__.ipynb",
   "output_path": "__notebook__.ipynb",
   "parameters": {},
   "start_time": "2023-08-05T10:56:38.468390",
   "version": "2.4.0"
  }
 },
 "nbformat": 4,
 "nbformat_minor": 5
}
